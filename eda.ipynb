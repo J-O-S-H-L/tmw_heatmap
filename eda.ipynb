{
 "cells": [
  {
   "cell_type": "code",
   "execution_count": 20,
   "metadata": {},
   "outputs": [],
   "source": [
    "import numpy as np\n",
    "import pandas as pd\n",
    "import matplotlib.pyplot as plt\n",
    "import seaborn as sns\n",
    "import datetime as dt"
   ]
  },
  {
   "cell_type": "code",
   "execution_count": 21,
   "metadata": {},
   "outputs": [
    {
     "data": {
      "text/html": [
       "<div>\n",
       "<style scoped>\n",
       "    .dataframe tbody tr th:only-of-type {\n",
       "        vertical-align: middle;\n",
       "    }\n",
       "\n",
       "    .dataframe tbody tr th {\n",
       "        vertical-align: top;\n",
       "    }\n",
       "\n",
       "    .dataframe thead th {\n",
       "        text-align: right;\n",
       "    }\n",
       "</style>\n",
       "<table border=\"1\" class=\"dataframe\">\n",
       "  <thead>\n",
       "    <tr style=\"text-align: right;\">\n",
       "      <th></th>\n",
       "      <th>media_type</th>\n",
       "      <th>amount</th>\n",
       "      <th>created_at</th>\n",
       "    </tr>\n",
       "  </thead>\n",
       "  <tbody>\n",
       "    <tr>\n",
       "      <th>0</th>\n",
       "      <td>MediaType.MANGA</td>\n",
       "      <td>1.0</td>\n",
       "      <td>2024-08-26 22:51:13.100</td>\n",
       "    </tr>\n",
       "    <tr>\n",
       "      <th>1</th>\n",
       "      <td>MediaType.VN</td>\n",
       "      <td>1.0</td>\n",
       "      <td>2024-08-26 22:50:43.100</td>\n",
       "    </tr>\n",
       "    <tr>\n",
       "      <th>2</th>\n",
       "      <td>MediaType.READING</td>\n",
       "      <td>1.0</td>\n",
       "      <td>2024-08-26 22:11:00.100</td>\n",
       "    </tr>\n",
       "    <tr>\n",
       "      <th>3</th>\n",
       "      <td>MediaType.READTIME</td>\n",
       "      <td>1.0</td>\n",
       "      <td>2024-08-26 22:08:47.100</td>\n",
       "    </tr>\n",
       "    <tr>\n",
       "      <th>4</th>\n",
       "      <td>MediaType.LISTENING</td>\n",
       "      <td>25.0</td>\n",
       "      <td>2024-08-26 20:53:44.100</td>\n",
       "    </tr>\n",
       "  </tbody>\n",
       "</table>\n",
       "</div>"
      ],
      "text/plain": [
       "            media_type  amount              created_at\n",
       "0      MediaType.MANGA     1.0 2024-08-26 22:51:13.100\n",
       "1         MediaType.VN     1.0 2024-08-26 22:50:43.100\n",
       "2    MediaType.READING     1.0 2024-08-26 22:11:00.100\n",
       "3   MediaType.READTIME     1.0 2024-08-26 22:08:47.100\n",
       "4  MediaType.LISTENING    25.0 2024-08-26 20:53:44.100"
      ]
     },
     "execution_count": 21,
     "metadata": {},
     "output_type": "execute_result"
    }
   ],
   "source": [
    "df = pd.read_csv('n0luck13_logs (1).csv')\n",
    "df = df.drop(['discord_user_id', 'title', 'note'], axis=1)\n",
    "df['created_at'] = pd.to_datetime(df['created_at'], format='ISO8601')\n",
    "df.head()"
   ]
  },
  {
   "cell_type": "code",
   "execution_count": 22,
   "metadata": {},
   "outputs": [
    {
     "data": {
      "text/html": [
       "<div>\n",
       "<style scoped>\n",
       "    .dataframe tbody tr th:only-of-type {\n",
       "        vertical-align: middle;\n",
       "    }\n",
       "\n",
       "    .dataframe tbody tr th {\n",
       "        vertical-align: top;\n",
       "    }\n",
       "\n",
       "    .dataframe thead th {\n",
       "        text-align: right;\n",
       "    }\n",
       "</style>\n",
       "<table border=\"1\" class=\"dataframe\">\n",
       "  <thead>\n",
       "    <tr style=\"text-align: right;\">\n",
       "      <th></th>\n",
       "      <th>media_type</th>\n",
       "      <th>amount</th>\n",
       "      <th>created_at</th>\n",
       "    </tr>\n",
       "  </thead>\n",
       "  <tbody>\n",
       "    <tr>\n",
       "      <th>0</th>\n",
       "      <td>MANGA</td>\n",
       "      <td>1.0</td>\n",
       "      <td>2024-08-26 22:51:13.100000</td>\n",
       "    </tr>\n",
       "    <tr>\n",
       "      <th>1</th>\n",
       "      <td>VN</td>\n",
       "      <td>1.0</td>\n",
       "      <td>2024-08-26 22:50:43.100000</td>\n",
       "    </tr>\n",
       "    <tr>\n",
       "      <th>2</th>\n",
       "      <td>READING</td>\n",
       "      <td>1.0</td>\n",
       "      <td>2024-08-26 22:11:00.100000</td>\n",
       "    </tr>\n",
       "    <tr>\n",
       "      <th>3</th>\n",
       "      <td>READTIME</td>\n",
       "      <td>1.0</td>\n",
       "      <td>2024-08-26 22:08:47.100000</td>\n",
       "    </tr>\n",
       "    <tr>\n",
       "      <th>4</th>\n",
       "      <td>LISTENING</td>\n",
       "      <td>25.0</td>\n",
       "      <td>2024-08-26 20:53:44.100000</td>\n",
       "    </tr>\n",
       "    <tr>\n",
       "      <th>...</th>\n",
       "      <td>...</td>\n",
       "      <td>...</td>\n",
       "      <td>...</td>\n",
       "    </tr>\n",
       "    <tr>\n",
       "      <th>231</th>\n",
       "      <td>LISTENING</td>\n",
       "      <td>38.0</td>\n",
       "      <td>2024-04-16 14:55:31.394554</td>\n",
       "    </tr>\n",
       "    <tr>\n",
       "      <th>232</th>\n",
       "      <td>READTIME</td>\n",
       "      <td>45.0</td>\n",
       "      <td>2024-04-16 14:07:43.871288</td>\n",
       "    </tr>\n",
       "    <tr>\n",
       "      <th>233</th>\n",
       "      <td>READTIME</td>\n",
       "      <td>30.0</td>\n",
       "      <td>2024-04-11 14:15:07.886956</td>\n",
       "    </tr>\n",
       "    <tr>\n",
       "      <th>234</th>\n",
       "      <td>READTIME</td>\n",
       "      <td>60.0</td>\n",
       "      <td>2024-04-11 10:54:09.826619</td>\n",
       "    </tr>\n",
       "    <tr>\n",
       "      <th>235</th>\n",
       "      <td>READTIME</td>\n",
       "      <td>30.0</td>\n",
       "      <td>2024-04-03 19:50:55.920803</td>\n",
       "    </tr>\n",
       "  </tbody>\n",
       "</table>\n",
       "<p>236 rows × 3 columns</p>\n",
       "</div>"
      ],
      "text/plain": [
       "    media_type  amount                 created_at\n",
       "0        MANGA     1.0 2024-08-26 22:51:13.100000\n",
       "1           VN     1.0 2024-08-26 22:50:43.100000\n",
       "2      READING     1.0 2024-08-26 22:11:00.100000\n",
       "3     READTIME     1.0 2024-08-26 22:08:47.100000\n",
       "4    LISTENING    25.0 2024-08-26 20:53:44.100000\n",
       "..         ...     ...                        ...\n",
       "231  LISTENING    38.0 2024-04-16 14:55:31.394554\n",
       "232   READTIME    45.0 2024-04-16 14:07:43.871288\n",
       "233   READTIME    30.0 2024-04-11 14:15:07.886956\n",
       "234   READTIME    60.0 2024-04-11 10:54:09.826619\n",
       "235   READTIME    30.0 2024-04-03 19:50:55.920803\n",
       "\n",
       "[236 rows x 3 columns]"
      ]
     },
     "execution_count": 22,
     "metadata": {},
     "output_type": "execute_result"
    }
   ],
   "source": [
    "# remove all text before the '.' in media_type\n",
    "df['media_type'] = df['media_type'].str.split('.').str[1]\n",
    "df"
   ]
  },
  {
   "cell_type": "code",
   "execution_count": 23,
   "metadata": {},
   "outputs": [
    {
     "data": {
      "text/plain": [
       "array(['MANGA', 'VN', 'READING', 'READTIME', 'LISTENING', 'ANIME', 'BOOK'],\n",
       "      dtype=object)"
      ]
     },
     "execution_count": 23,
     "metadata": {},
     "output_type": "execute_result"
    }
   ],
   "source": [
    "df['media_type'].unique()"
   ]
  },
  {
   "cell_type": "code",
   "execution_count": 24,
   "metadata": {},
   "outputs": [],
   "source": [
    "points = {\n",
    "    'LISTENING': 0.67,\n",
    "    'READING': 1/350,\n",
    "    'ANIME': 13,\n",
    "    'READTIME': 0.67,\n",
    "    'VN': 1/350,\n",
    "    'MANGA': 0.25,\n",
    "    'PAGE': 1,\n",
    "}"
   ]
  },
  {
   "cell_type": "code",
   "execution_count": 25,
   "metadata": {},
   "outputs": [
    {
     "data": {
      "text/html": [
       "<div>\n",
       "<style scoped>\n",
       "    .dataframe tbody tr th:only-of-type {\n",
       "        vertical-align: middle;\n",
       "    }\n",
       "\n",
       "    .dataframe tbody tr th {\n",
       "        vertical-align: top;\n",
       "    }\n",
       "\n",
       "    .dataframe thead th {\n",
       "        text-align: right;\n",
       "    }\n",
       "</style>\n",
       "<table border=\"1\" class=\"dataframe\">\n",
       "  <thead>\n",
       "    <tr style=\"text-align: right;\">\n",
       "      <th></th>\n",
       "      <th>media_type</th>\n",
       "      <th>amount</th>\n",
       "      <th>created_at</th>\n",
       "      <th>points</th>\n",
       "    </tr>\n",
       "  </thead>\n",
       "  <tbody>\n",
       "    <tr>\n",
       "      <th>0</th>\n",
       "      <td>MANGA</td>\n",
       "      <td>1.0</td>\n",
       "      <td>2024-08-26 22:51:13.100</td>\n",
       "      <td>0.250000</td>\n",
       "    </tr>\n",
       "    <tr>\n",
       "      <th>1</th>\n",
       "      <td>VN</td>\n",
       "      <td>1.0</td>\n",
       "      <td>2024-08-26 22:50:43.100</td>\n",
       "      <td>0.002857</td>\n",
       "    </tr>\n",
       "    <tr>\n",
       "      <th>2</th>\n",
       "      <td>READING</td>\n",
       "      <td>1.0</td>\n",
       "      <td>2024-08-26 22:11:00.100</td>\n",
       "      <td>0.002857</td>\n",
       "    </tr>\n",
       "    <tr>\n",
       "      <th>3</th>\n",
       "      <td>READTIME</td>\n",
       "      <td>1.0</td>\n",
       "      <td>2024-08-26 22:08:47.100</td>\n",
       "      <td>0.670000</td>\n",
       "    </tr>\n",
       "    <tr>\n",
       "      <th>4</th>\n",
       "      <td>LISTENING</td>\n",
       "      <td>25.0</td>\n",
       "      <td>2024-08-26 20:53:44.100</td>\n",
       "      <td>16.750000</td>\n",
       "    </tr>\n",
       "  </tbody>\n",
       "</table>\n",
       "</div>"
      ],
      "text/plain": [
       "  media_type  amount              created_at     points\n",
       "0      MANGA     1.0 2024-08-26 22:51:13.100   0.250000\n",
       "1         VN     1.0 2024-08-26 22:50:43.100   0.002857\n",
       "2    READING     1.0 2024-08-26 22:11:00.100   0.002857\n",
       "3   READTIME     1.0 2024-08-26 22:08:47.100   0.670000\n",
       "4  LISTENING    25.0 2024-08-26 20:53:44.100  16.750000"
      ]
     },
     "execution_count": 25,
     "metadata": {},
     "output_type": "execute_result"
    }
   ],
   "source": [
    "df['points'] = df['media_type'].map(points)*df['amount']\n",
    "df.head()"
   ]
  },
  {
   "cell_type": "code",
   "execution_count": 26,
   "metadata": {},
   "outputs": [
    {
     "data": {
      "text/html": [
       "<div>\n",
       "<style scoped>\n",
       "    .dataframe tbody tr th:only-of-type {\n",
       "        vertical-align: middle;\n",
       "    }\n",
       "\n",
       "    .dataframe tbody tr th {\n",
       "        vertical-align: top;\n",
       "    }\n",
       "\n",
       "    .dataframe thead th {\n",
       "        text-align: right;\n",
       "    }\n",
       "</style>\n",
       "<table border=\"1\" class=\"dataframe\">\n",
       "  <thead>\n",
       "    <tr style=\"text-align: right;\">\n",
       "      <th>week</th>\n",
       "      <th>1</th>\n",
       "      <th>2</th>\n",
       "      <th>3</th>\n",
       "      <th>4</th>\n",
       "      <th>5</th>\n",
       "      <th>6</th>\n",
       "      <th>7</th>\n",
       "      <th>8</th>\n",
       "      <th>9</th>\n",
       "      <th>10</th>\n",
       "      <th>...</th>\n",
       "      <th>43</th>\n",
       "      <th>44</th>\n",
       "      <th>45</th>\n",
       "      <th>46</th>\n",
       "      <th>47</th>\n",
       "      <th>48</th>\n",
       "      <th>49</th>\n",
       "      <th>50</th>\n",
       "      <th>51</th>\n",
       "      <th>52</th>\n",
       "    </tr>\n",
       "    <tr>\n",
       "      <th>day</th>\n",
       "      <th></th>\n",
       "      <th></th>\n",
       "      <th></th>\n",
       "      <th></th>\n",
       "      <th></th>\n",
       "      <th></th>\n",
       "      <th></th>\n",
       "      <th></th>\n",
       "      <th></th>\n",
       "      <th></th>\n",
       "      <th></th>\n",
       "      <th></th>\n",
       "      <th></th>\n",
       "      <th></th>\n",
       "      <th></th>\n",
       "      <th></th>\n",
       "      <th></th>\n",
       "      <th></th>\n",
       "      <th></th>\n",
       "      <th></th>\n",
       "      <th></th>\n",
       "    </tr>\n",
       "  </thead>\n",
       "  <tbody>\n",
       "    <tr>\n",
       "      <th>0</th>\n",
       "      <td>NaN</td>\n",
       "      <td>NaN</td>\n",
       "      <td>NaN</td>\n",
       "      <td>NaN</td>\n",
       "      <td>NaN</td>\n",
       "      <td>NaN</td>\n",
       "      <td>NaN</td>\n",
       "      <td>NaN</td>\n",
       "      <td>NaN</td>\n",
       "      <td>NaN</td>\n",
       "      <td>...</td>\n",
       "      <td>NaN</td>\n",
       "      <td>NaN</td>\n",
       "      <td>NaN</td>\n",
       "      <td>NaN</td>\n",
       "      <td>NaN</td>\n",
       "      <td>NaN</td>\n",
       "      <td>NaN</td>\n",
       "      <td>NaN</td>\n",
       "      <td>NaN</td>\n",
       "      <td>NaN</td>\n",
       "    </tr>\n",
       "    <tr>\n",
       "      <th>1</th>\n",
       "      <td>NaN</td>\n",
       "      <td>NaN</td>\n",
       "      <td>NaN</td>\n",
       "      <td>NaN</td>\n",
       "      <td>NaN</td>\n",
       "      <td>NaN</td>\n",
       "      <td>NaN</td>\n",
       "      <td>NaN</td>\n",
       "      <td>NaN</td>\n",
       "      <td>NaN</td>\n",
       "      <td>...</td>\n",
       "      <td>NaN</td>\n",
       "      <td>NaN</td>\n",
       "      <td>NaN</td>\n",
       "      <td>NaN</td>\n",
       "      <td>NaN</td>\n",
       "      <td>NaN</td>\n",
       "      <td>NaN</td>\n",
       "      <td>NaN</td>\n",
       "      <td>NaN</td>\n",
       "      <td>NaN</td>\n",
       "    </tr>\n",
       "    <tr>\n",
       "      <th>2</th>\n",
       "      <td>NaN</td>\n",
       "      <td>NaN</td>\n",
       "      <td>NaN</td>\n",
       "      <td>NaN</td>\n",
       "      <td>NaN</td>\n",
       "      <td>NaN</td>\n",
       "      <td>NaN</td>\n",
       "      <td>NaN</td>\n",
       "      <td>NaN</td>\n",
       "      <td>NaN</td>\n",
       "      <td>...</td>\n",
       "      <td>NaN</td>\n",
       "      <td>NaN</td>\n",
       "      <td>NaN</td>\n",
       "      <td>NaN</td>\n",
       "      <td>NaN</td>\n",
       "      <td>NaN</td>\n",
       "      <td>NaN</td>\n",
       "      <td>NaN</td>\n",
       "      <td>NaN</td>\n",
       "      <td>NaN</td>\n",
       "    </tr>\n",
       "    <tr>\n",
       "      <th>3</th>\n",
       "      <td>NaN</td>\n",
       "      <td>NaN</td>\n",
       "      <td>NaN</td>\n",
       "      <td>NaN</td>\n",
       "      <td>NaN</td>\n",
       "      <td>NaN</td>\n",
       "      <td>NaN</td>\n",
       "      <td>NaN</td>\n",
       "      <td>NaN</td>\n",
       "      <td>NaN</td>\n",
       "      <td>...</td>\n",
       "      <td>NaN</td>\n",
       "      <td>NaN</td>\n",
       "      <td>NaN</td>\n",
       "      <td>NaN</td>\n",
       "      <td>NaN</td>\n",
       "      <td>NaN</td>\n",
       "      <td>NaN</td>\n",
       "      <td>NaN</td>\n",
       "      <td>NaN</td>\n",
       "      <td>NaN</td>\n",
       "    </tr>\n",
       "    <tr>\n",
       "      <th>4</th>\n",
       "      <td>NaN</td>\n",
       "      <td>NaN</td>\n",
       "      <td>NaN</td>\n",
       "      <td>NaN</td>\n",
       "      <td>NaN</td>\n",
       "      <td>NaN</td>\n",
       "      <td>NaN</td>\n",
       "      <td>NaN</td>\n",
       "      <td>NaN</td>\n",
       "      <td>NaN</td>\n",
       "      <td>...</td>\n",
       "      <td>NaN</td>\n",
       "      <td>NaN</td>\n",
       "      <td>NaN</td>\n",
       "      <td>NaN</td>\n",
       "      <td>NaN</td>\n",
       "      <td>NaN</td>\n",
       "      <td>NaN</td>\n",
       "      <td>NaN</td>\n",
       "      <td>NaN</td>\n",
       "      <td>NaN</td>\n",
       "    </tr>\n",
       "  </tbody>\n",
       "</table>\n",
       "<p>5 rows × 52 columns</p>\n",
       "</div>"
      ],
      "text/plain": [
       "week  1   2   3   4   5   6   7   8   9   10  ...  43  44  45  46  47  48  49  \\\n",
       "day                                           ...                               \n",
       "0    NaN NaN NaN NaN NaN NaN NaN NaN NaN NaN  ... NaN NaN NaN NaN NaN NaN NaN   \n",
       "1    NaN NaN NaN NaN NaN NaN NaN NaN NaN NaN  ... NaN NaN NaN NaN NaN NaN NaN   \n",
       "2    NaN NaN NaN NaN NaN NaN NaN NaN NaN NaN  ... NaN NaN NaN NaN NaN NaN NaN   \n",
       "3    NaN NaN NaN NaN NaN NaN NaN NaN NaN NaN  ... NaN NaN NaN NaN NaN NaN NaN   \n",
       "4    NaN NaN NaN NaN NaN NaN NaN NaN NaN NaN  ... NaN NaN NaN NaN NaN NaN NaN   \n",
       "\n",
       "week  50  51  52  \n",
       "day               \n",
       "0    NaN NaN NaN  \n",
       "1    NaN NaN NaN  \n",
       "2    NaN NaN NaN  \n",
       "3    NaN NaN NaN  \n",
       "4    NaN NaN NaN  \n",
       "\n",
       "[5 rows x 52 columns]"
      ]
     },
     "execution_count": 26,
     "metadata": {},
     "output_type": "execute_result"
    }
   ],
   "source": [
    "# group by day and sum points\n",
    "daily_points = df.groupby(df['created_at'].dt.date)['points'].sum()\n",
    "# add summed points to df\n",
    "df['daily_points'] = df['created_at'].dt.date.map(daily_points)\n",
    "df['week'] = df['created_at'].dt.isocalendar().week\n",
    "df['day'] = df['created_at'].dt.weekday\n",
    "heatmap = df.pivot_table(index='day', columns='week', values='points', aggfunc='sum')\n",
    "heatmap.columns\n",
    "for i in range(1, 53):\n",
    "    if i not in heatmap.columns:\n",
    "        heatmap[i] = np.nan\n",
    "heatmap = heatmap.sort_index(axis=1)\n",
    "\n",
    "heatmap.head()"
   ]
  },
  {
   "cell_type": "code",
   "execution_count": 27,
   "metadata": {},
   "outputs": [
    {
     "data": {
      "image/png": "[encoded data removed]",
      "text/plain": [
       "<Figure size 1400x400 with 1 Axes>"
      ]
     },
     "metadata": {},
     "output_type": "display_data"
    }
   ],
   "source": [
    "# Plotting the heatmap\n",
    "plt.figure(figsize=(14, 4))\n",
    "# Create a subplot to set the face color\n",
    "ax = sns.heatmap(\n",
    "    heatmap,\n",
    "    cmap='Greens',\n",
    "    linewidths=1.5,\n",
    "    linecolor='#2c2c2d',\n",
    "    cbar=False,\n",
    "    square=True\n",
    ")\n",
    "\n",
    "# Set the background color\n",
    "plt.gcf().set_facecolor('#2c2c2c')\n",
    "ax.set_facecolor('#2c2c2c')\n",
    "\n",
    "# Set text color to white\n",
    "plt.title('Immersion Heatmap', color='white')\n",
    "plt.xlabel('Week Number', color='white')\n",
    "plt.ylabel('Day of the Week', color='white')\n",
    "plt.axis('off')\n",
    "\n",
    "plt.show()\n"
   ]
  },
  {
   "cell_type": "code",
   "execution_count": 28,
   "metadata": {},
   "outputs": [],
   "source": [
    "daily_points.name = 'points'\n",
    "daily_points.index.name = 'date'"
   ]
  },
  {
   "cell_type": "code",
   "execution_count": null,
   "metadata": {},
   "outputs": [],
   "source": []
  },
  {
   "cell_type": "code",
   "execution_count": 29,
   "metadata": {},
   "outputs": [
    {
     "data": {
      "image/png": "[encoded data removed]",
      "text/plain": [
       "<Figure size 1000x400 with 1 Axes>"
      ]
     },
     "metadata": {},
     "output_type": "display_data"
    }
   ],
   "source": [
    "# Convert the series to a DataFrame and reset index to get the 'date' column\n",
    "df = daily_points.reset_index()\n",
    "df.columns = ['date', 'points']\n",
    "\n",
    "# Convert date column to datetime format\n",
    "df['date'] = pd.to_datetime(df['date'])\n",
    "\n",
    "# Create a new DataFrame indexed by weeks and days\n",
    "df['week'] = df['date'].dt.isocalendar().week\n",
    "df['day'] = df['date'].dt.weekday\n",
    "heatmap_data = df.pivot(index='day', columns='week', values='points')\n",
    "# normalize the data between 0 and 255\n",
    "heatmap_data = heatmap_data.fillna(0)\n",
    "heatmap_data = (heatmap_data - heatmap_data.min().min()) / (heatmap_data.max().max() - heatmap_data.min().min()) * 255\n",
    "# Plotting the heatmap\n",
    "plt.figure(figsize=(10, 4))\n",
    "\n",
    "# Create a subplot to set the face color\n",
    "ax = sns.heatmap(\n",
    "    heatmap_data,\n",
    "    cmap='Greens_r',\n",
    "    linewidths=1.5,\n",
    "    linecolor='#2c2c2d',\n",
    "    cbar=False,\n",
    "    square=True,\n",
    ")\n",
    "\n",
    "# Set the background color\n",
    "plt.gcf().set_facecolor('#2c2c2c')\n",
    "ax.set_facecolor('#2c2c2c')\n",
    "\n",
    "# Set text color to white\n",
    "plt.title('Immersion Heatmap', color='white')\n",
    "plt.xlabel('Week Number', color='white')\n",
    "plt.ylabel('Day of the Week', color='white')\n",
    "plt.axis('off')\n",
    "\n",
    "plt.show()\n"
   ]
  },
  {
   "cell_type": "code",
   "execution_count": 30,
   "metadata": {},
   "outputs": [
    {
     "data": {
      "text/plain": [
       "0.0"
      ]
     },
     "execution_count": 30,
     "metadata": {},
     "output_type": "execute_result"
    }
   ],
   "source": [
    "df['points'].min()"
   ]
  },
  {
   "cell_type": "code",
   "execution_count": 51,
   "metadata": {},
   "outputs": [
    {
     "ename": "ValueError",
     "evalue": "Invalid media type: t",
     "output_type": "error",
     "traceback": [
      "\u001b[0;31m---------------------------------------------------------------------------\u001b[0m",
      "\u001b[0;31mValueError\u001b[0m                                Traceback (most recent call last)",
      "Cell \u001b[0;32mIn[51], line 12\u001b[0m\n\u001b[1;32m     10\u001b[0m         \u001b[38;5;28;01mif\u001b[39;00m media \u001b[38;5;129;01mnot\u001b[39;00m \u001b[38;5;129;01min\u001b[39;00m points\u001b[38;5;241m.\u001b[39mkeys():\n\u001b[1;32m     11\u001b[0m             \u001b[38;5;28;01mraise\u001b[39;00m \u001b[38;5;167;01mValueError\u001b[39;00m(\u001b[38;5;124mf\u001b[39m\u001b[38;5;124m\"\u001b[39m\u001b[38;5;124mInvalid media type: \u001b[39m\u001b[38;5;132;01m{\u001b[39;00mmedia\u001b[38;5;132;01m}\u001b[39;00m\u001b[38;5;124m\"\u001b[39m)\n\u001b[0;32m---> 12\u001b[0m \u001b[43mcheck_media_type\u001b[49m\u001b[43m(\u001b[49m\u001b[38;5;124;43m'\u001b[39;49m\u001b[38;5;124;43mtest\u001b[39;49m\u001b[38;5;124;43m'\u001b[39;49m\u001b[43m)\u001b[49m\n",
      "Cell \u001b[0;32mIn[51], line 11\u001b[0m, in \u001b[0;36mcheck_media_type\u001b[0;34m(media_type)\u001b[0m\n\u001b[1;32m      9\u001b[0m \u001b[38;5;28;01mfor\u001b[39;00m media \u001b[38;5;129;01min\u001b[39;00m media_type:\n\u001b[1;32m     10\u001b[0m     \u001b[38;5;28;01mif\u001b[39;00m media \u001b[38;5;129;01mnot\u001b[39;00m \u001b[38;5;129;01min\u001b[39;00m points\u001b[38;5;241m.\u001b[39mkeys():\n\u001b[0;32m---> 11\u001b[0m         \u001b[38;5;28;01mraise\u001b[39;00m \u001b[38;5;167;01mValueError\u001b[39;00m(\u001b[38;5;124mf\u001b[39m\u001b[38;5;124m\"\u001b[39m\u001b[38;5;124mInvalid media type: \u001b[39m\u001b[38;5;132;01m{\u001b[39;00mmedia\u001b[38;5;132;01m}\u001b[39;00m\u001b[38;5;124m\"\u001b[39m)\n",
      "\u001b[0;31mValueError\u001b[0m: Invalid media type: t"
     ]
    }
   ],
   "source": [
    "from typing import Union, List, Literal\n",
    "\n",
    "def check_media_type(media_type: Union[Literal[\"all\"], List[str]]) -> None:\n",
    "    \"\"\"\n",
    "    Check if the media_type is valid\n",
    "    \"\"\"\n",
    "    if media_type == \"all\":\n",
    "        return\n",
    "    for media in media_type:\n",
    "        if media not in points.keys():\n",
    "            raise ValueError(f\"Invalid media type: {media}\")\n",
    "check_media_type('test')"
   ]
  },
  {
   "cell_type": "code",
   "execution_count": 44,
   "metadata": {},
   "outputs": [],
   "source": [
    "check_media_type(['ANIME'])"
   ]
  },
  {
   "cell_type": "code",
   "execution_count": 49,
   "metadata": {},
   "outputs": [],
   "source": [
    "media_type = ['anime', 'manga', 'reading', 'vn', 'readtime', 'page']\n",
    "media_type = [\"all\"] if media_type == \"all\" else [string.upper() for string in media_type]"
   ]
  },
  {
   "cell_type": "code",
   "execution_count": 50,
   "metadata": {},
   "outputs": [
    {
     "data": {
      "text/plain": [
       "['ANIME', 'MANGA', 'READING', 'VN', 'READTIME', 'PAGE']"
      ]
     },
     "execution_count": 50,
     "metadata": {},
     "output_type": "execute_result"
    }
   ],
   "source": [
    "media_type"
   ]
  },
  {
   "cell_type": "code",
   "execution_count": 64,
   "metadata": {},
   "outputs": [],
   "source": [
    "class HeatmapGenerator:\n",
    "    def __init__(self, media_type: Union[str, List[str]] = \"all\") -> None:\n",
    "        self.points = {\n",
    "            \"LISTENING\": 0.67,\n",
    "            \"READING\": 1 / 350,\n",
    "            \"ANIME\": 13,\n",
    "            \"READTIME\": 0.67,\n",
    "            \"VN\": 1 / 350,\n",
    "            \"MANGA\": 0.25,\n",
    "            \"PAGE\": 1,\n",
    "        }\n",
    "        self.media_type = list(set(media_type)) if isinstance(media_type, list) else [media_type]\n",
    "        self.media_type = [s.upper() for s in self.media_type]\n",
    "        self.check_media_type()\n",
    "\n",
    "    def check_media_type(self) -> None:\n",
    "        \"\"\"\n",
    "        Check if the media_type is valid\n",
    "        \"\"\"\n",
    "        valid_media_types = list(self.points.keys())\n",
    "        if self.media_type[0] != \"ALL\":\n",
    "            for media in self.media_type:\n",
    "                if media not in valid_media_types:\n",
    "                    raise ValueError(\n",
    "                        f\"Invalid media type: {media}. Valid media types are {valid_media_types}\"\n",
    "                    )"
   ]
  },
  {
   "cell_type": "code",
   "execution_count": 65,
   "metadata": {},
   "outputs": [
    {
     "data": {
      "text/plain": [
       "['ANIME', 'VN']"
      ]
     },
     "execution_count": 65,
     "metadata": {},
     "output_type": "execute_result"
    }
   ],
   "source": [
    "a = HeatmapGenerator(['vn', 'ANIME'])\n",
    "a.media_type"
   ]
  }
 ],
 "metadata": {
  "kernelspec": {
   "display_name": "playground",
   "language": "python",
   "name": "python3"
  },
  "language_info": {
   "codemirror_mode": {
    "name": "ipython",
    "version": 3
   },
   "file_extension": ".py",
   "mimetype": "text/x-python",
   "name": "python",
   "nbconvert_exporter": "python",
   "pygments_lexer": "ipython3",
   "version": "3.12.4"
  }
 },
 "nbformat": 4,
 "nbformat_minor": 2
}
